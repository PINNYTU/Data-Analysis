{
 "cells": [
  {
   "cell_type": "markdown",
   "metadata": {},
   "source": [
    "# Description\n",
    "Digital personal assistants help people to drive cars, plan their day, buy something online. In a sense, they are simplified versions of artificial intelligence with whom you can talk.\n",
    "\n",
    "In this project, you will develop step by step a simple bot that will help you study programming.\n",
    "\n",
    "## Objective1\n",
    "For the first stage, you will write a bot who displays a greeting, its name, and the date of its creation. First impressions count!"
   ]
  },
  {
   "cell_type": "markdown",
   "metadata": {},
   "source": [
    "Instead of {your_name}, the bot must print your name entered from the standard input."
   ]
  },
  {
   "cell_type": "code",
   "execution_count": 42,
   "metadata": {},
   "outputs": [
    {
     "name": "stdout",
     "output_type": "stream",
     "text": [
      "Hello! My name is Aid.\n",
      "I was created in 2020.\n",
      "Please, remind me your name.\n",
      "What a great name you have, Pinny!\n"
     ]
    }
   ],
   "source": [
    "print('Hello! My name is Aid.')\n",
    "print('I was created in 2020.')\n",
    "print('Please, remind me your name.')\n",
    "\n",
    "your_name = 'Pinny'  # reading a name\n",
    "\n",
    "print('What a great name you have, %s!'%(your_name))\n"
   ]
  },
  {
   "cell_type": "code",
   "execution_count": 2,
   "metadata": {},
   "outputs": [
    {
     "data": {
      "text/plain": [
       "'Hello10'"
      ]
     },
     "execution_count": 2,
     "metadata": {},
     "output_type": "execute_result"
    }
   ],
   "source": [
    "str1 = \"Hello\"\n",
    "str2 = str1 + str(10)\n",
    "str2\n"
   ]
  },
  {
   "cell_type": "code",
   "execution_count": 3,
   "metadata": {},
   "outputs": [
    {
     "name": "stdout",
     "output_type": "stream",
     "text": [
      "4\n"
     ]
    }
   ],
   "source": [
    "print(((3 + 5) // 2 * 2 ** 3) % 7)"
   ]
  },
  {
   "cell_type": "code",
   "execution_count": 5,
   "metadata": {},
   "outputs": [
    {
     "name": "stdout",
     "output_type": "stream",
     "text": [
      "5\n"
     ]
    }
   ],
   "source": [
    "# put your python code here\n",
    "i=425\n",
    "x= int(i%10)\n",
    "print(x)\n"
   ]
  },
  {
   "cell_type": "markdown",
   "metadata": {},
   "source": [
    "## Objective2\n",
    "At this stage, you will introduce yourself to the bot. It will greet you by your name and then try to guess your age using arithmetic operations.\n",
    "\n"
   ]
  },
  {
   "cell_type": "code",
   "execution_count": 19,
   "metadata": {},
   "outputs": [
    {
     "name": "stdout",
     "output_type": "stream",
     "text": [
      "Hello! My name is Aid.\n",
      "I was created in 2020.\n",
      "Please, remind me your name.\n",
      "What a great name you have , Pinny!\n",
      "Let me guess your age.\n",
      "Enter remainders of dividing your age by 3, 5 and 7.\n",
      "Your age is 27 ; that''s a good time to start programming!\n",
      "Your age is 27; that's a good time to start programming!\n"
     ]
    }
   ],
   "source": [
    "print('Hello! My name is Aid.')\n",
    "print('I was created in 2020.')\n",
    "print('Please, remind me your name.')\n",
    "\n",
    "name = 'Pinny' #input()\n",
    "\n",
    "print('What a great name you have , ' + name + '!')\n",
    "print('Let me guess your age.')\n",
    "print('Enter remainders of dividing your age by 3, 5 and 7.')\n",
    "\n",
    "#x = 27\n",
    "remainder3 = int(input()) #remainder3 = x%3 #0\n",
    "remainder5 = int(input()) #remainder5 = x%5 #2\n",
    "remainder7 = int(input()) #remainder7 = x%7 #6\n",
    "\n",
    "your_age = (remainder3 * 70 + remainder5 * 21 + remainder7 * 15) % 105\n",
    "# reading all remainders\n",
    "\n",
    "print(\"Your age is %d ; that''s a good time to start programming!\" %(your_age)) #f1\n",
    "#print(\"Your age is {}; that's a good time to start programming!\".format(your_age)) #f2\n",
    "#print(f\"Your age is {your_age}; that's a good time to start programming!\") #f3\n",
    "\n"
   ]
  },
  {
   "cell_type": "markdown",
   "metadata": {},
   "source": [
    "## Objective3\n",
    "At this stage, you will program the bot to count from 0 to any positive number users enter.\n",
    "Now I will prove to you that I can count to any number you want.\n",
    "> 5\n",
    "0 !\n",
    "1 !\n",
    "2 !\n",
    "3 !\n",
    "4 !\n",
    "5 !\n",
    "Completed, have a nice day!"
   ]
  },
  {
   "cell_type": "code",
   "execution_count": 31,
   "metadata": {},
   "outputs": [
    {
     "name": "stdout",
     "output_type": "stream",
     "text": [
      "Hello! My name is Aid.\n",
      "I was created in 2020.\n",
      "Please, remind me your name.\n",
      "What a great name you have, Pinny!\n",
      "Let me guess your age.\n",
      "Enter remainders of dividing your age by 3, 5 and 7.\n",
      "Your age is 22; that's a good time to start programming!\n",
      "Now I will prove to you that I can count to any number you want.\n",
      "1!\n",
      "2!\n",
      "3!\n",
      "4!\n",
      "5!\n",
      "Completed, have a nice day!\n"
     ]
    }
   ],
   "source": [
    "print('Hello! My name is Aid.')\n",
    "print('I was created in 2020.')\n",
    "print('Please, remind me your name.')\n",
    "\n",
    "name = 'Pinny' #input\n",
    "\n",
    "print('What a great name you have, ' + name + '!')\n",
    "print('Let me guess your age.')\n",
    "print('Enter remainders of dividing your age by 3, 5 and 7.')\n",
    "\n",
    "rem3 = 1#int(input())\n",
    "rem5 = 2#int(input())\n",
    "rem7 = 1#int(input())\n",
    "\n",
    "age = (rem3 * 70 + rem5 * 21 + rem7 * 15) % 105\n",
    "\n",
    "print(\"Your age is \" + str(age) + \"; that's a good time to start programming!\")\n",
    "print('Now I will prove to you that I can count to any number you want.')\n",
    "\n",
    "# read a number and count to it here\n",
    "user_input = 5#input()\n",
    "i=0\n",
    "while i <= user_input:\n",
    "    print(str(i)+'!')\n",
    "    i+=1\n",
    "\n",
    "print('Completed, have a nice day!')"
   ]
  },
  {
   "cell_type": "markdown",
   "metadata": {},
   "source": [
    "## Objective4\n",
    "Your bot can ask anything you want, but there are two rules for your output:\n",
    "\n",
    "the line with the test should end with the question mark character;\n",
    "an option starts with a digit followed by the dot (1., 2., 3., 4.)\n",
    "If a user enters an incorrect answer, the bot may print a message:\n",
    "\n",
    "Please, try again.\n",
    "The program should stop on the correct answer and print 'Congratulations, have a nice day!' at the end.\n",
    "\n"
   ]
  },
  {
   "cell_type": "code",
   "execution_count": 47,
   "metadata": {},
   "outputs": [
    {
     "name": "stdout",
     "output_type": "stream",
     "text": [
      "Hello! My name is Aid.\n",
      "I was created in 2020.\n",
      "Please, remind me your name.\n"
     ]
    }
   ],
   "source": [
    "def greet(bot_name, birth_year):\n",
    "    print('Hello! My name is ' + bot_name + '.')\n",
    "    print('I was created in ' + birth_year + '.')\n",
    "\n",
    "\n",
    "def remind_name():\n",
    "    print('Please, remind me your name.')\n",
    "    name = input()\n",
    "    print('What a great name you have, ' + name + '!')\n",
    "\n",
    "\n",
    "def guess_age():\n",
    "    print('Let me guess your age.')\n",
    "    print('Enter remainders of dividing your age by 3, 5 and 7.')\n",
    "\n",
    "    rem3 = int(input())\n",
    "    rem5 = int(input())\n",
    "    rem7 = int(input())\n",
    "    age = (rem3 * 70 + rem5 * 21 + rem7 * 15) % 105\n",
    "\n",
    "    print(\"Your age is \" + str(age) + \"; that's a good time to start programming!\")\n",
    "\n",
    "\n",
    "def count():\n",
    "    print('Now I will prove to you that I can count to any number you want.')\n",
    "\n",
    "    num = int(input())\n",
    "    curr = 0\n",
    "    while curr <= num:\n",
    "        print(curr, '!')\n",
    "        curr = curr + 1\n",
    "\n",
    "\n",
    "def test():\n",
    "    print(\"Let's test your programming knowledge.\")\n",
    "    print('Why do we use methods?')\n",
    "    print(\"1. To repeat a statement multiple times.\")\n",
    "    print(\"2. To decompose a program into several small subroutines.\")\n",
    "    print(\"3. To determine the execution time of a program.\")\n",
    "    print(\"4. To interrupt the execution of a program.\")\n",
    "    ans = int(input())\n",
    "    \n",
    "    if ans != 2 :\n",
    "        print(\"Please, try again.\")\n",
    "        ans = int(input())\n",
    "    print('Completed, have a nice day!')\n",
    "\n",
    "\n",
    "def end():\n",
    "    print('Congratulations, have a nice day!')\n",
    "\n",
    "\n",
    "greet('Aid', '2020')  # change it as you need\n",
    "remind_name()\n",
    "guess_age()\n",
    "count()\n",
    "test()\n",
    "end()\n"
   ]
  },
  {
   "cell_type": "code",
   "execution_count": null,
   "metadata": {},
   "outputs": [],
   "source": []
  }
 ],
 "metadata": {
  "kernelspec": {
   "display_name": "Python 3.9.11 64-bit",
   "language": "python",
   "name": "python3"
  },
  "language_info": {
   "codemirror_mode": {
    "name": "ipython",
    "version": 3
   },
   "file_extension": ".py",
   "mimetype": "text/x-python",
   "name": "python",
   "nbconvert_exporter": "python",
   "pygments_lexer": "ipython3",
   "version": "3.9.11"
  },
  "orig_nbformat": 4,
  "vscode": {
   "interpreter": {
    "hash": "aee8b7b246df8f9039afb4144a1f6fd8d2ca17a180786b69acc140d282b71a49"
   }
  }
 },
 "nbformat": 4,
 "nbformat_minor": 2
}
